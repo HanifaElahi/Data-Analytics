{
 "cells": [
  {
   "cell_type": "code",
   "execution_count": 1,
   "id": "39cd9f59",
   "metadata": {
    "_cell_guid": "b1076dfc-b9ad-4769-8c92-a6c4dae69d19",
    "_uuid": "8f2839f25d086af736a60e9eeb907d3b93b6e0e5",
    "execution": {
     "iopub.execute_input": "2024-12-10T07:40:21.752596Z",
     "iopub.status.busy": "2024-12-10T07:40:21.752059Z",
     "iopub.status.idle": "2024-12-10T07:40:22.826226Z",
     "shell.execute_reply": "2024-12-10T07:40:22.824804Z"
    },
    "papermill": {
     "duration": 1.086102,
     "end_time": "2024-12-10T07:40:22.829361",
     "exception": false,
     "start_time": "2024-12-10T07:40:21.743259",
     "status": "completed"
    },
    "tags": []
   },
   "outputs": [
    {
     "name": "stdout",
     "output_type": "stream",
     "text": [
      "/kaggle/input/life-expectancy-who/Life Expectancy Data.csv\n"
     ]
    }
   ],
   "source": [
    "# This Python 3 environment comes with many helpful analytics libraries installed\n",
    "# It is defined by the kaggle/python Docker image: https://github.com/kaggle/docker-python\n",
    "# For example, here's several helpful packages to load\n",
    "\n",
    "import numpy as np # linear algebra\n",
    "import pandas as pd # data processing, CSV file I/O (e.g. pd.read_csv)\n",
    "\n",
    "# Input data files are available in the read-only \"../input/\" directory\n",
    "# For example, running this (by clicking run or pressing Shift+Enter) will list all files under the input directory\n",
    "\n",
    "import os\n",
    "for dirname, _, filenames in os.walk('/kaggle/input'):\n",
    "    for filename in filenames:\n",
    "        print(os.path.join(dirname, filename))\n",
    "\n",
    "# You can write up to 20GB to the current directory (/kaggle/working/) that gets preserved as output when you create a version using \"Save & Run All\" \n",
    "# You can also write temporary files to /kaggle/temp/, but they won't be saved outside of the current session"
   ]
  },
  {
   "cell_type": "markdown",
   "id": "7eab5d36",
   "metadata": {
    "papermill": {
     "duration": 0.006398,
     "end_time": "2024-12-10T07:40:22.842578",
     "exception": false,
     "start_time": "2024-12-10T07:40:22.836180",
     "status": "completed"
    },
    "tags": []
   },
   "source": [
    "# Importing Required Libraries & Dependencies"
   ]
  },
  {
   "cell_type": "code",
   "execution_count": 2,
   "id": "a37ea818",
   "metadata": {
    "execution": {
     "iopub.execute_input": "2024-12-10T07:40:22.861635Z",
     "iopub.status.busy": "2024-12-10T07:40:22.859966Z",
     "iopub.status.idle": "2024-12-10T07:40:22.866819Z",
     "shell.execute_reply": "2024-12-10T07:40:22.865301Z"
    },
    "papermill": {
     "duration": 0.018327,
     "end_time": "2024-12-10T07:40:22.869675",
     "exception": false,
     "start_time": "2024-12-10T07:40:22.851348",
     "status": "completed"
    },
    "tags": []
   },
   "outputs": [],
   "source": [
    "import numpy as np\n",
    "\n",
    "import pandas as pd\n",
    "\n",
    "from collections import Counter"
   ]
  },
  {
   "cell_type": "code",
   "execution_count": 3,
   "id": "eba6fcac",
   "metadata": {
    "execution": {
     "iopub.execute_input": "2024-12-10T07:40:22.883523Z",
     "iopub.status.busy": "2024-12-10T07:40:22.883137Z",
     "iopub.status.idle": "2024-12-10T07:40:22.888899Z",
     "shell.execute_reply": "2024-12-10T07:40:22.887565Z"
    },
    "papermill": {
     "duration": 0.016016,
     "end_time": "2024-12-10T07:40:22.891975",
     "exception": false,
     "start_time": "2024-12-10T07:40:22.875959",
     "status": "completed"
    },
    "tags": []
   },
   "outputs": [],
   "source": [
    "pd.set_option('display.float_format', lambda x: '%.3f' % x)"
   ]
  },
  {
   "cell_type": "code",
   "execution_count": 4,
   "id": "d0ee159f",
   "metadata": {
    "execution": {
     "iopub.execute_input": "2024-12-10T07:40:22.906574Z",
     "iopub.status.busy": "2024-12-10T07:40:22.906149Z",
     "iopub.status.idle": "2024-12-10T07:40:25.014929Z",
     "shell.execute_reply": "2024-12-10T07:40:25.013467Z"
    },
    "papermill": {
     "duration": 2.11956,
     "end_time": "2024-12-10T07:40:25.017834",
     "exception": false,
     "start_time": "2024-12-10T07:40:22.898274",
     "status": "completed"
    },
    "tags": []
   },
   "outputs": [],
   "source": [
    "import seaborn as sns\n",
    "\n",
    "import matplotlib.pyplot as plt"
   ]
  },
  {
   "cell_type": "markdown",
   "id": "17f395c2",
   "metadata": {
    "papermill": {
     "duration": 0.005622,
     "end_time": "2024-12-10T07:40:25.029719",
     "exception": false,
     "start_time": "2024-12-10T07:40:25.024097",
     "status": "completed"
    },
    "tags": []
   },
   "source": [
    "# Loading Dataset"
   ]
  },
  {
   "cell_type": "code",
   "execution_count": 5,
   "id": "6d277842",
   "metadata": {
    "execution": {
     "iopub.execute_input": "2024-12-10T07:40:25.044157Z",
     "iopub.status.busy": "2024-12-10T07:40:25.043288Z",
     "iopub.status.idle": "2024-12-10T07:40:25.083043Z",
     "shell.execute_reply": "2024-12-10T07:40:25.081748Z"
    },
    "papermill": {
     "duration": 0.049961,
     "end_time": "2024-12-10T07:40:25.085516",
     "exception": false,
     "start_time": "2024-12-10T07:40:25.035555",
     "status": "completed"
    },
    "tags": []
   },
   "outputs": [],
   "source": [
    "life_expectancy = pd.read_csv('/kaggle/input/life-expectancy-who/Life Expectancy Data.csv')"
   ]
  },
  {
   "cell_type": "code",
   "execution_count": 6,
   "id": "9308f347",
   "metadata": {
    "execution": {
     "iopub.execute_input": "2024-12-10T07:40:25.099357Z",
     "iopub.status.busy": "2024-12-10T07:40:25.098871Z",
     "iopub.status.idle": "2024-12-10T07:40:25.138722Z",
     "shell.execute_reply": "2024-12-10T07:40:25.137266Z"
    },
    "papermill": {
     "duration": 0.050144,
     "end_time": "2024-12-10T07:40:25.141569",
     "exception": false,
     "start_time": "2024-12-10T07:40:25.091425",
     "status": "completed"
    },
    "tags": []
   },
   "outputs": [
    {
     "data": {
      "text/html": [
       "<div>\n",
       "<style scoped>\n",
       "    .dataframe tbody tr th:only-of-type {\n",
       "        vertical-align: middle;\n",
       "    }\n",
       "\n",
       "    .dataframe tbody tr th {\n",
       "        vertical-align: top;\n",
       "    }\n",
       "\n",
       "    .dataframe thead th {\n",
       "        text-align: right;\n",
       "    }\n",
       "</style>\n",
       "<table border=\"1\" class=\"dataframe\">\n",
       "  <thead>\n",
       "    <tr style=\"text-align: right;\">\n",
       "      <th></th>\n",
       "      <th>Country</th>\n",
       "      <th>Year</th>\n",
       "      <th>Status</th>\n",
       "      <th>Life expectancy</th>\n",
       "      <th>Adult Mortality</th>\n",
       "      <th>infant deaths</th>\n",
       "      <th>Alcohol</th>\n",
       "      <th>percentage expenditure</th>\n",
       "      <th>Hepatitis B</th>\n",
       "      <th>Measles</th>\n",
       "      <th>...</th>\n",
       "      <th>Polio</th>\n",
       "      <th>Total expenditure</th>\n",
       "      <th>Diphtheria</th>\n",
       "      <th>HIV/AIDS</th>\n",
       "      <th>GDP</th>\n",
       "      <th>Population</th>\n",
       "      <th>thinness  1-19 years</th>\n",
       "      <th>thinness 5-9 years</th>\n",
       "      <th>Income composition of resources</th>\n",
       "      <th>Schooling</th>\n",
       "    </tr>\n",
       "  </thead>\n",
       "  <tbody>\n",
       "    <tr>\n",
       "      <th>0</th>\n",
       "      <td>Afghanistan</td>\n",
       "      <td>2015</td>\n",
       "      <td>Developing</td>\n",
       "      <td>65.000</td>\n",
       "      <td>263.000</td>\n",
       "      <td>62</td>\n",
       "      <td>0.010</td>\n",
       "      <td>71.280</td>\n",
       "      <td>65.000</td>\n",
       "      <td>1154</td>\n",
       "      <td>...</td>\n",
       "      <td>6.000</td>\n",
       "      <td>8.160</td>\n",
       "      <td>65.000</td>\n",
       "      <td>0.100</td>\n",
       "      <td>584.259</td>\n",
       "      <td>33736494.000</td>\n",
       "      <td>17.200</td>\n",
       "      <td>17.300</td>\n",
       "      <td>0.479</td>\n",
       "      <td>10.100</td>\n",
       "    </tr>\n",
       "    <tr>\n",
       "      <th>1</th>\n",
       "      <td>Afghanistan</td>\n",
       "      <td>2014</td>\n",
       "      <td>Developing</td>\n",
       "      <td>59.900</td>\n",
       "      <td>271.000</td>\n",
       "      <td>64</td>\n",
       "      <td>0.010</td>\n",
       "      <td>73.524</td>\n",
       "      <td>62.000</td>\n",
       "      <td>492</td>\n",
       "      <td>...</td>\n",
       "      <td>58.000</td>\n",
       "      <td>8.180</td>\n",
       "      <td>62.000</td>\n",
       "      <td>0.100</td>\n",
       "      <td>612.697</td>\n",
       "      <td>327582.000</td>\n",
       "      <td>17.500</td>\n",
       "      <td>17.500</td>\n",
       "      <td>0.476</td>\n",
       "      <td>10.000</td>\n",
       "    </tr>\n",
       "    <tr>\n",
       "      <th>2</th>\n",
       "      <td>Afghanistan</td>\n",
       "      <td>2013</td>\n",
       "      <td>Developing</td>\n",
       "      <td>59.900</td>\n",
       "      <td>268.000</td>\n",
       "      <td>66</td>\n",
       "      <td>0.010</td>\n",
       "      <td>73.219</td>\n",
       "      <td>64.000</td>\n",
       "      <td>430</td>\n",
       "      <td>...</td>\n",
       "      <td>62.000</td>\n",
       "      <td>8.130</td>\n",
       "      <td>64.000</td>\n",
       "      <td>0.100</td>\n",
       "      <td>631.745</td>\n",
       "      <td>31731688.000</td>\n",
       "      <td>17.700</td>\n",
       "      <td>17.700</td>\n",
       "      <td>0.470</td>\n",
       "      <td>9.900</td>\n",
       "    </tr>\n",
       "    <tr>\n",
       "      <th>3</th>\n",
       "      <td>Afghanistan</td>\n",
       "      <td>2012</td>\n",
       "      <td>Developing</td>\n",
       "      <td>59.500</td>\n",
       "      <td>272.000</td>\n",
       "      <td>69</td>\n",
       "      <td>0.010</td>\n",
       "      <td>78.184</td>\n",
       "      <td>67.000</td>\n",
       "      <td>2787</td>\n",
       "      <td>...</td>\n",
       "      <td>67.000</td>\n",
       "      <td>8.520</td>\n",
       "      <td>67.000</td>\n",
       "      <td>0.100</td>\n",
       "      <td>669.959</td>\n",
       "      <td>3696958.000</td>\n",
       "      <td>17.900</td>\n",
       "      <td>18.000</td>\n",
       "      <td>0.463</td>\n",
       "      <td>9.800</td>\n",
       "    </tr>\n",
       "    <tr>\n",
       "      <th>4</th>\n",
       "      <td>Afghanistan</td>\n",
       "      <td>2011</td>\n",
       "      <td>Developing</td>\n",
       "      <td>59.200</td>\n",
       "      <td>275.000</td>\n",
       "      <td>71</td>\n",
       "      <td>0.010</td>\n",
       "      <td>7.097</td>\n",
       "      <td>68.000</td>\n",
       "      <td>3013</td>\n",
       "      <td>...</td>\n",
       "      <td>68.000</td>\n",
       "      <td>7.870</td>\n",
       "      <td>68.000</td>\n",
       "      <td>0.100</td>\n",
       "      <td>63.537</td>\n",
       "      <td>2978599.000</td>\n",
       "      <td>18.200</td>\n",
       "      <td>18.200</td>\n",
       "      <td>0.454</td>\n",
       "      <td>9.500</td>\n",
       "    </tr>\n",
       "  </tbody>\n",
       "</table>\n",
       "<p>5 rows × 22 columns</p>\n",
       "</div>"
      ],
      "text/plain": [
       "       Country  Year      Status  Life expectancy   Adult Mortality  \\\n",
       "0  Afghanistan  2015  Developing            65.000          263.000   \n",
       "1  Afghanistan  2014  Developing            59.900          271.000   \n",
       "2  Afghanistan  2013  Developing            59.900          268.000   \n",
       "3  Afghanistan  2012  Developing            59.500          272.000   \n",
       "4  Afghanistan  2011  Developing            59.200          275.000   \n",
       "\n",
       "   infant deaths  Alcohol  percentage expenditure  Hepatitis B  Measles   ...  \\\n",
       "0             62    0.010                  71.280       65.000      1154  ...   \n",
       "1             64    0.010                  73.524       62.000       492  ...   \n",
       "2             66    0.010                  73.219       64.000       430  ...   \n",
       "3             69    0.010                  78.184       67.000      2787  ...   \n",
       "4             71    0.010                   7.097       68.000      3013  ...   \n",
       "\n",
       "   Polio  Total expenditure  Diphtheria    HIV/AIDS     GDP   Population  \\\n",
       "0  6.000              8.160       65.000      0.100 584.259 33736494.000   \n",
       "1 58.000              8.180       62.000      0.100 612.697   327582.000   \n",
       "2 62.000              8.130       64.000      0.100 631.745 31731688.000   \n",
       "3 67.000              8.520       67.000      0.100 669.959  3696958.000   \n",
       "4 68.000              7.870       68.000      0.100  63.537  2978599.000   \n",
       "\n",
       "    thinness  1-19 years   thinness 5-9 years  \\\n",
       "0                 17.200               17.300   \n",
       "1                 17.500               17.500   \n",
       "2                 17.700               17.700   \n",
       "3                 17.900               18.000   \n",
       "4                 18.200               18.200   \n",
       "\n",
       "   Income composition of resources  Schooling  \n",
       "0                            0.479     10.100  \n",
       "1                            0.476     10.000  \n",
       "2                            0.470      9.900  \n",
       "3                            0.463      9.800  \n",
       "4                            0.454      9.500  \n",
       "\n",
       "[5 rows x 22 columns]"
      ]
     },
     "execution_count": 6,
     "metadata": {},
     "output_type": "execute_result"
    }
   ],
   "source": [
    "life_expectancy.head()"
   ]
  },
  {
   "cell_type": "code",
   "execution_count": 7,
   "id": "c0815654",
   "metadata": {
    "execution": {
     "iopub.execute_input": "2024-12-10T07:40:25.158230Z",
     "iopub.status.busy": "2024-12-10T07:40:25.157810Z",
     "iopub.status.idle": "2024-12-10T07:40:25.166023Z",
     "shell.execute_reply": "2024-12-10T07:40:25.164709Z"
    },
    "papermill": {
     "duration": 0.019915,
     "end_time": "2024-12-10T07:40:25.168331",
     "exception": false,
     "start_time": "2024-12-10T07:40:25.148416",
     "status": "completed"
    },
    "tags": []
   },
   "outputs": [
    {
     "data": {
      "text/plain": [
       "Index(['Country', 'Year', 'Status', 'Life expectancy ', 'Adult Mortality',\n",
       "       'infant deaths', 'Alcohol', 'percentage expenditure', 'Hepatitis B',\n",
       "       'Measles ', ' BMI ', 'under-five deaths ', 'Polio', 'Total expenditure',\n",
       "       'Diphtheria ', ' HIV/AIDS', 'GDP', 'Population',\n",
       "       ' thinness  1-19 years', ' thinness 5-9 years',\n",
       "       'Income composition of resources', 'Schooling'],\n",
       "      dtype='object')"
      ]
     },
     "execution_count": 7,
     "metadata": {},
     "output_type": "execute_result"
    }
   ],
   "source": [
    "life_expectancy.columns"
   ]
  },
  {
   "cell_type": "markdown",
   "id": "cc92ce49",
   "metadata": {
    "papermill": {
     "duration": 0.005869,
     "end_time": "2024-12-10T07:40:25.180737",
     "exception": false,
     "start_time": "2024-12-10T07:40:25.174868",
     "status": "completed"
    },
    "tags": []
   },
   "source": [
    "# Data Pre-Processing"
   ]
  },
  {
   "cell_type": "code",
   "execution_count": 8,
   "id": "3d0c4408",
   "metadata": {
    "execution": {
     "iopub.execute_input": "2024-12-10T07:40:25.195205Z",
     "iopub.status.busy": "2024-12-10T07:40:25.194734Z",
     "iopub.status.idle": "2024-12-10T07:40:25.201221Z",
     "shell.execute_reply": "2024-12-10T07:40:25.199806Z"
    },
    "papermill": {
     "duration": 0.017141,
     "end_time": "2024-12-10T07:40:25.204087",
     "exception": false,
     "start_time": "2024-12-10T07:40:25.186946",
     "status": "completed"
    },
    "tags": []
   },
   "outputs": [],
   "source": [
    "# To remove extra trailing spaces (beginning and end) from column names\n",
    "life_expectancy.columns = life_expectancy.columns.str.strip()"
   ]
  },
  {
   "cell_type": "code",
   "execution_count": 9,
   "id": "05035e1e",
   "metadata": {
    "execution": {
     "iopub.execute_input": "2024-12-10T07:40:25.219261Z",
     "iopub.status.busy": "2024-12-10T07:40:25.218856Z",
     "iopub.status.idle": "2024-12-10T07:40:25.226882Z",
     "shell.execute_reply": "2024-12-10T07:40:25.225541Z"
    },
    "papermill": {
     "duration": 0.018774,
     "end_time": "2024-12-10T07:40:25.229512",
     "exception": false,
     "start_time": "2024-12-10T07:40:25.210738",
     "status": "completed"
    },
    "tags": []
   },
   "outputs": [
    {
     "data": {
      "text/plain": [
       "Index(['Country', 'Year', 'Status', 'Life expectancy', 'Adult Mortality',\n",
       "       'infant deaths', 'Alcohol', 'percentage expenditure', 'Hepatitis B',\n",
       "       'Measles', 'BMI', 'under-five deaths', 'Polio', 'Total expenditure',\n",
       "       'Diphtheria', 'HIV/AIDS', 'GDP', 'Population', 'thinness  1-19 years',\n",
       "       'thinness 5-9 years', 'Income composition of resources', 'Schooling'],\n",
       "      dtype='object')"
      ]
     },
     "execution_count": 9,
     "metadata": {},
     "output_type": "execute_result"
    }
   ],
   "source": [
    "life_expectancy.columns"
   ]
  },
  {
   "cell_type": "code",
   "execution_count": 10,
   "id": "f09ea4ed",
   "metadata": {
    "execution": {
     "iopub.execute_input": "2024-12-10T07:40:25.245666Z",
     "iopub.status.busy": "2024-12-10T07:40:25.244108Z",
     "iopub.status.idle": "2024-12-10T07:40:25.250948Z",
     "shell.execute_reply": "2024-12-10T07:40:25.249728Z"
    },
    "papermill": {
     "duration": 0.017358,
     "end_time": "2024-12-10T07:40:25.253388",
     "exception": false,
     "start_time": "2024-12-10T07:40:25.236030",
     "status": "completed"
    },
    "tags": []
   },
   "outputs": [],
   "source": [
    "life_expectancy.columns = life_expectancy.columns.str.lower()"
   ]
  },
  {
   "cell_type": "code",
   "execution_count": 11,
   "id": "15c3eea1",
   "metadata": {
    "execution": {
     "iopub.execute_input": "2024-12-10T07:40:25.268263Z",
     "iopub.status.busy": "2024-12-10T07:40:25.267802Z",
     "iopub.status.idle": "2024-12-10T07:40:25.276317Z",
     "shell.execute_reply": "2024-12-10T07:40:25.274911Z"
    },
    "papermill": {
     "duration": 0.019282,
     "end_time": "2024-12-10T07:40:25.279280",
     "exception": false,
     "start_time": "2024-12-10T07:40:25.259998",
     "status": "completed"
    },
    "tags": []
   },
   "outputs": [
    {
     "data": {
      "text/plain": [
       "Index(['country', 'year', 'status', 'life expectancy', 'adult mortality',\n",
       "       'infant deaths', 'alcohol', 'percentage expenditure', 'hepatitis b',\n",
       "       'measles', 'bmi', 'under-five deaths', 'polio', 'total expenditure',\n",
       "       'diphtheria', 'hiv/aids', 'gdp', 'population', 'thinness  1-19 years',\n",
       "       'thinness 5-9 years', 'income composition of resources', 'schooling'],\n",
       "      dtype='object')"
      ]
     },
     "execution_count": 11,
     "metadata": {},
     "output_type": "execute_result"
    }
   ],
   "source": [
    "life_expectancy.columns"
   ]
  },
  {
   "cell_type": "code",
   "execution_count": 12,
   "id": "a6bf8691",
   "metadata": {
    "execution": {
     "iopub.execute_input": "2024-12-10T07:40:25.295328Z",
     "iopub.status.busy": "2024-12-10T07:40:25.294179Z",
     "iopub.status.idle": "2024-12-10T07:40:25.305136Z",
     "shell.execute_reply": "2024-12-10T07:40:25.303799Z"
    },
    "papermill": {
     "duration": 0.021461,
     "end_time": "2024-12-10T07:40:25.307436",
     "exception": false,
     "start_time": "2024-12-10T07:40:25.285975",
     "status": "completed"
    },
    "tags": []
   },
   "outputs": [
    {
     "data": {
      "text/plain": [
       "country                             object\n",
       "year                                 int64\n",
       "status                              object\n",
       "life expectancy                    float64\n",
       "adult mortality                    float64\n",
       "infant deaths                        int64\n",
       "alcohol                            float64\n",
       "percentage expenditure             float64\n",
       "hepatitis b                        float64\n",
       "measles                              int64\n",
       "bmi                                float64\n",
       "under-five deaths                    int64\n",
       "polio                              float64\n",
       "total expenditure                  float64\n",
       "diphtheria                         float64\n",
       "hiv/aids                           float64\n",
       "gdp                                float64\n",
       "population                         float64\n",
       "thinness  1-19 years               float64\n",
       "thinness 5-9 years                 float64\n",
       "income composition of resources    float64\n",
       "schooling                          float64\n",
       "dtype: object"
      ]
     },
     "execution_count": 12,
     "metadata": {},
     "output_type": "execute_result"
    }
   ],
   "source": [
    "life_expectancy.dtypes"
   ]
  },
  {
   "cell_type": "code",
   "execution_count": 13,
   "id": "a8bb41b1",
   "metadata": {
    "execution": {
     "iopub.execute_input": "2024-12-10T07:40:25.322557Z",
     "iopub.status.busy": "2024-12-10T07:40:25.321991Z",
     "iopub.status.idle": "2024-12-10T07:40:25.330660Z",
     "shell.execute_reply": "2024-12-10T07:40:25.329394Z"
    },
    "papermill": {
     "duration": 0.019425,
     "end_time": "2024-12-10T07:40:25.333269",
     "exception": false,
     "start_time": "2024-12-10T07:40:25.313844",
     "status": "completed"
    },
    "tags": []
   },
   "outputs": [],
   "source": [
    "life_expectancy['year'] = life_expectancy['year'].astype(str) "
   ]
  },
  {
   "cell_type": "code",
   "execution_count": 14,
   "id": "cdaa7d31",
   "metadata": {
    "execution": {
     "iopub.execute_input": "2024-12-10T07:40:25.348656Z",
     "iopub.status.busy": "2024-12-10T07:40:25.348154Z",
     "iopub.status.idle": "2024-12-10T07:40:25.359211Z",
     "shell.execute_reply": "2024-12-10T07:40:25.357564Z"
    },
    "papermill": {
     "duration": 0.021941,
     "end_time": "2024-12-10T07:40:25.361857",
     "exception": false,
     "start_time": "2024-12-10T07:40:25.339916",
     "status": "completed"
    },
    "tags": []
   },
   "outputs": [
    {
     "data": {
      "text/plain": [
       "country                             object\n",
       "year                                object\n",
       "status                              object\n",
       "life expectancy                    float64\n",
       "adult mortality                    float64\n",
       "infant deaths                        int64\n",
       "alcohol                            float64\n",
       "percentage expenditure             float64\n",
       "hepatitis b                        float64\n",
       "measles                              int64\n",
       "bmi                                float64\n",
       "under-five deaths                    int64\n",
       "polio                              float64\n",
       "total expenditure                  float64\n",
       "diphtheria                         float64\n",
       "hiv/aids                           float64\n",
       "gdp                                float64\n",
       "population                         float64\n",
       "thinness  1-19 years               float64\n",
       "thinness 5-9 years                 float64\n",
       "income composition of resources    float64\n",
       "schooling                          float64\n",
       "dtype: object"
      ]
     },
     "execution_count": 14,
     "metadata": {},
     "output_type": "execute_result"
    }
   ],
   "source": [
    "life_expectancy.dtypes"
   ]
  },
  {
   "cell_type": "code",
   "execution_count": 15,
   "id": "e48ec9af",
   "metadata": {
    "execution": {
     "iopub.execute_input": "2024-12-10T07:40:25.377510Z",
     "iopub.status.busy": "2024-12-10T07:40:25.377013Z",
     "iopub.status.idle": "2024-12-10T07:40:25.384886Z",
     "shell.execute_reply": "2024-12-10T07:40:25.383674Z"
    },
    "papermill": {
     "duration": 0.018785,
     "end_time": "2024-12-10T07:40:25.387366",
     "exception": false,
     "start_time": "2024-12-10T07:40:25.368581",
     "status": "completed"
    },
    "tags": []
   },
   "outputs": [],
   "source": [
    "numerical_types = ['int16', 'int32', 'int64', 'float16', 'float32', 'float64']\n",
    "\n",
    "life_expectancy_numeric = life_expectancy.select_dtypes(include=numerical_types)"
   ]
  },
  {
   "cell_type": "code",
   "execution_count": 16,
   "id": "78fe8e4d",
   "metadata": {
    "execution": {
     "iopub.execute_input": "2024-12-10T07:40:25.404914Z",
     "iopub.status.busy": "2024-12-10T07:40:25.403583Z",
     "iopub.status.idle": "2024-12-10T07:40:25.412325Z",
     "shell.execute_reply": "2024-12-10T07:40:25.411197Z"
    },
    "papermill": {
     "duration": 0.019907,
     "end_time": "2024-12-10T07:40:25.414562",
     "exception": false,
     "start_time": "2024-12-10T07:40:25.394655",
     "status": "completed"
    },
    "tags": []
   },
   "outputs": [
    {
     "data": {
      "text/plain": [
       "Index(['life expectancy', 'adult mortality', 'infant deaths', 'alcohol',\n",
       "       'percentage expenditure', 'hepatitis b', 'measles', 'bmi',\n",
       "       'under-five deaths', 'polio', 'total expenditure', 'diphtheria',\n",
       "       'hiv/aids', 'gdp', 'population', 'thinness  1-19 years',\n",
       "       'thinness 5-9 years', 'income composition of resources', 'schooling'],\n",
       "      dtype='object')"
      ]
     },
     "execution_count": 16,
     "metadata": {},
     "output_type": "execute_result"
    }
   ],
   "source": [
    "life_expectancy_numeric.columns"
   ]
  },
  {
   "cell_type": "markdown",
   "id": "f3183787",
   "metadata": {
    "papermill": {
     "duration": 0.006354,
     "end_time": "2024-12-10T07:40:25.427612",
     "exception": false,
     "start_time": "2024-12-10T07:40:25.421258",
     "status": "completed"
    },
    "tags": []
   },
   "source": [
    "# Central Tendancy Measures"
   ]
  },
  {
   "cell_type": "markdown",
   "id": "6bfff8fc",
   "metadata": {
    "papermill": {
     "duration": 0.006234,
     "end_time": "2024-12-10T07:40:25.440485",
     "exception": false,
     "start_time": "2024-12-10T07:40:25.434251",
     "status": "completed"
    },
    "tags": []
   },
   "source": [
    "## Mean"
   ]
  },
  {
   "cell_type": "code",
   "execution_count": 17,
   "id": "57a8645a",
   "metadata": {
    "execution": {
     "iopub.execute_input": "2024-12-10T07:40:25.457430Z",
     "iopub.status.busy": "2024-12-10T07:40:25.456947Z",
     "iopub.status.idle": "2024-12-10T07:40:25.475410Z",
     "shell.execute_reply": "2024-12-10T07:40:25.473775Z"
    },
    "papermill": {
     "duration": 0.030489,
     "end_time": "2024-12-10T07:40:25.478189",
     "exception": false,
     "start_time": "2024-12-10T07:40:25.447700",
     "status": "completed"
    },
    "tags": []
   },
   "outputs": [
    {
     "data": {
      "text/html": [
       "<div>\n",
       "<style scoped>\n",
       "    .dataframe tbody tr th:only-of-type {\n",
       "        vertical-align: middle;\n",
       "    }\n",
       "\n",
       "    .dataframe tbody tr th {\n",
       "        vertical-align: top;\n",
       "    }\n",
       "\n",
       "    .dataframe thead th {\n",
       "        text-align: right;\n",
       "    }\n",
       "</style>\n",
       "<table border=\"1\" class=\"dataframe\">\n",
       "  <thead>\n",
       "    <tr style=\"text-align: right;\">\n",
       "      <th></th>\n",
       "      <th>Column</th>\n",
       "      <th>Mean</th>\n",
       "    </tr>\n",
       "  </thead>\n",
       "  <tbody>\n",
       "    <tr>\n",
       "      <th>0</th>\n",
       "      <td>life expectancy</td>\n",
       "      <td>69.225</td>\n",
       "    </tr>\n",
       "    <tr>\n",
       "      <th>1</th>\n",
       "      <td>adult mortality</td>\n",
       "      <td>164.796</td>\n",
       "    </tr>\n",
       "    <tr>\n",
       "      <th>2</th>\n",
       "      <td>infant deaths</td>\n",
       "      <td>30.304</td>\n",
       "    </tr>\n",
       "    <tr>\n",
       "      <th>3</th>\n",
       "      <td>alcohol</td>\n",
       "      <td>4.603</td>\n",
       "    </tr>\n",
       "    <tr>\n",
       "      <th>4</th>\n",
       "      <td>percentage expenditure</td>\n",
       "      <td>738.251</td>\n",
       "    </tr>\n",
       "    <tr>\n",
       "      <th>5</th>\n",
       "      <td>hepatitis b</td>\n",
       "      <td>80.940</td>\n",
       "    </tr>\n",
       "    <tr>\n",
       "      <th>6</th>\n",
       "      <td>measles</td>\n",
       "      <td>2419.592</td>\n",
       "    </tr>\n",
       "    <tr>\n",
       "      <th>7</th>\n",
       "      <td>bmi</td>\n",
       "      <td>38.321</td>\n",
       "    </tr>\n",
       "    <tr>\n",
       "      <th>8</th>\n",
       "      <td>under-five deaths</td>\n",
       "      <td>42.036</td>\n",
       "    </tr>\n",
       "    <tr>\n",
       "      <th>9</th>\n",
       "      <td>polio</td>\n",
       "      <td>82.550</td>\n",
       "    </tr>\n",
       "    <tr>\n",
       "      <th>10</th>\n",
       "      <td>total expenditure</td>\n",
       "      <td>5.938</td>\n",
       "    </tr>\n",
       "    <tr>\n",
       "      <th>11</th>\n",
       "      <td>diphtheria</td>\n",
       "      <td>82.324</td>\n",
       "    </tr>\n",
       "    <tr>\n",
       "      <th>12</th>\n",
       "      <td>hiv/aids</td>\n",
       "      <td>1.742</td>\n",
       "    </tr>\n",
       "    <tr>\n",
       "      <th>13</th>\n",
       "      <td>gdp</td>\n",
       "      <td>7483.158</td>\n",
       "    </tr>\n",
       "    <tr>\n",
       "      <th>14</th>\n",
       "      <td>population</td>\n",
       "      <td>12753375.120</td>\n",
       "    </tr>\n",
       "    <tr>\n",
       "      <th>15</th>\n",
       "      <td>thinness  1-19 years</td>\n",
       "      <td>4.840</td>\n",
       "    </tr>\n",
       "    <tr>\n",
       "      <th>16</th>\n",
       "      <td>thinness 5-9 years</td>\n",
       "      <td>4.870</td>\n",
       "    </tr>\n",
       "    <tr>\n",
       "      <th>17</th>\n",
       "      <td>income composition of resources</td>\n",
       "      <td>0.628</td>\n",
       "    </tr>\n",
       "    <tr>\n",
       "      <th>18</th>\n",
       "      <td>schooling</td>\n",
       "      <td>11.993</td>\n",
       "    </tr>\n",
       "  </tbody>\n",
       "</table>\n",
       "</div>"
      ],
      "text/plain": [
       "                             Column         Mean\n",
       "0                   life expectancy       69.225\n",
       "1                   adult mortality      164.796\n",
       "2                     infant deaths       30.304\n",
       "3                           alcohol        4.603\n",
       "4            percentage expenditure      738.251\n",
       "5                       hepatitis b       80.940\n",
       "6                           measles     2419.592\n",
       "7                               bmi       38.321\n",
       "8                 under-five deaths       42.036\n",
       "9                             polio       82.550\n",
       "10                total expenditure        5.938\n",
       "11                       diphtheria       82.324\n",
       "12                         hiv/aids        1.742\n",
       "13                              gdp     7483.158\n",
       "14                       population 12753375.120\n",
       "15             thinness  1-19 years        4.840\n",
       "16               thinness 5-9 years        4.870\n",
       "17  income composition of resources        0.628\n",
       "18                        schooling       11.993"
      ]
     },
     "execution_count": 17,
     "metadata": {},
     "output_type": "execute_result"
    }
   ],
   "source": [
    "mean_results = [] \n",
    "\n",
    "for column_name, column_values in life_expectancy_numeric.items():\n",
    "    values = life_expectancy_numeric[column_name]\n",
    "    column_mean = values.sum() / values.count()\n",
    "    mean_results.append({\"Column\": column_name, \"Mean\": column_mean})\n",
    "\n",
    "mean_df = pd.DataFrame(mean_results)\n",
    "mean_df"
   ]
  },
  {
   "cell_type": "markdown",
   "id": "4235fe8e",
   "metadata": {
    "papermill": {
     "duration": 0.006611,
     "end_time": "2024-12-10T07:40:25.492211",
     "exception": false,
     "start_time": "2024-12-10T07:40:25.485600",
     "status": "completed"
    },
    "tags": []
   },
   "source": [
    "## Median"
   ]
  },
  {
   "cell_type": "code",
   "execution_count": 18,
   "id": "ac351fb3",
   "metadata": {
    "execution": {
     "iopub.execute_input": "2024-12-10T07:40:25.508236Z",
     "iopub.status.busy": "2024-12-10T07:40:25.507725Z",
     "iopub.status.idle": "2024-12-10T07:40:25.514909Z",
     "shell.execute_reply": "2024-12-10T07:40:25.513594Z"
    },
    "papermill": {
     "duration": 0.01851,
     "end_time": "2024-12-10T07:40:25.517602",
     "exception": false,
     "start_time": "2024-12-10T07:40:25.499092",
     "status": "completed"
    },
    "tags": []
   },
   "outputs": [],
   "source": [
    "def calculate_median(column):\n",
    "    \n",
    "    sorted_values = column.dropna().sort_values().values #Sorting values\n",
    "    \n",
    "    n = len(sorted_values) # Finding total no.of values\n",
    "    \n",
    "    middlie_term = n // 2 # Getting middle term\n",
    "    \n",
    "    if n % 2: # If even\n",
    "        median = (sorted_values[middlie_term - 1] + sorted_values[middlie_term]) / 2\n",
    "    else: # If not even\n",
    "        median = sorted_values[middlie_term]\n",
    "        \n",
    "    return  median"
   ]
  },
  {
   "cell_type": "code",
   "execution_count": 19,
   "id": "bed55d5e",
   "metadata": {
    "execution": {
     "iopub.execute_input": "2024-12-10T07:40:25.534186Z",
     "iopub.status.busy": "2024-12-10T07:40:25.533698Z",
     "iopub.status.idle": "2024-12-10T07:40:25.560655Z",
     "shell.execute_reply": "2024-12-10T07:40:25.559281Z"
    },
    "papermill": {
     "duration": 0.03856,
     "end_time": "2024-12-10T07:40:25.563475",
     "exception": false,
     "start_time": "2024-12-10T07:40:25.524915",
     "status": "completed"
    },
    "tags": []
   },
   "outputs": [
    {
     "data": {
      "text/html": [
       "<div>\n",
       "<style scoped>\n",
       "    .dataframe tbody tr th:only-of-type {\n",
       "        vertical-align: middle;\n",
       "    }\n",
       "\n",
       "    .dataframe tbody tr th {\n",
       "        vertical-align: top;\n",
       "    }\n",
       "\n",
       "    .dataframe thead th {\n",
       "        text-align: right;\n",
       "    }\n",
       "</style>\n",
       "<table border=\"1\" class=\"dataframe\">\n",
       "  <thead>\n",
       "    <tr style=\"text-align: right;\">\n",
       "      <th></th>\n",
       "      <th>Column</th>\n",
       "      <th>Median</th>\n",
       "    </tr>\n",
       "  </thead>\n",
       "  <tbody>\n",
       "    <tr>\n",
       "      <th>0</th>\n",
       "      <td>life expectancy</td>\n",
       "      <td>72.100</td>\n",
       "    </tr>\n",
       "    <tr>\n",
       "      <th>1</th>\n",
       "      <td>adult mortality</td>\n",
       "      <td>144.000</td>\n",
       "    </tr>\n",
       "    <tr>\n",
       "      <th>2</th>\n",
       "      <td>infant deaths</td>\n",
       "      <td>3.000</td>\n",
       "    </tr>\n",
       "    <tr>\n",
       "      <th>3</th>\n",
       "      <td>alcohol</td>\n",
       "      <td>3.760</td>\n",
       "    </tr>\n",
       "    <tr>\n",
       "      <th>4</th>\n",
       "      <td>percentage expenditure</td>\n",
       "      <td>64.970</td>\n",
       "    </tr>\n",
       "    <tr>\n",
       "      <th>5</th>\n",
       "      <td>hepatitis b</td>\n",
       "      <td>92.000</td>\n",
       "    </tr>\n",
       "    <tr>\n",
       "      <th>6</th>\n",
       "      <td>measles</td>\n",
       "      <td>17.000</td>\n",
       "    </tr>\n",
       "    <tr>\n",
       "      <th>7</th>\n",
       "      <td>bmi</td>\n",
       "      <td>43.500</td>\n",
       "    </tr>\n",
       "    <tr>\n",
       "      <th>8</th>\n",
       "      <td>under-five deaths</td>\n",
       "      <td>4.000</td>\n",
       "    </tr>\n",
       "    <tr>\n",
       "      <th>9</th>\n",
       "      <td>polio</td>\n",
       "      <td>93.000</td>\n",
       "    </tr>\n",
       "    <tr>\n",
       "      <th>10</th>\n",
       "      <td>total expenditure</td>\n",
       "      <td>5.760</td>\n",
       "    </tr>\n",
       "    <tr>\n",
       "      <th>11</th>\n",
       "      <td>diphtheria</td>\n",
       "      <td>93.000</td>\n",
       "    </tr>\n",
       "    <tr>\n",
       "      <th>12</th>\n",
       "      <td>hiv/aids</td>\n",
       "      <td>0.100</td>\n",
       "    </tr>\n",
       "    <tr>\n",
       "      <th>13</th>\n",
       "      <td>gdp</td>\n",
       "      <td>1768.921</td>\n",
       "    </tr>\n",
       "    <tr>\n",
       "      <th>14</th>\n",
       "      <td>population</td>\n",
       "      <td>1388115.000</td>\n",
       "    </tr>\n",
       "    <tr>\n",
       "      <th>15</th>\n",
       "      <td>thinness  1-19 years</td>\n",
       "      <td>3.300</td>\n",
       "    </tr>\n",
       "    <tr>\n",
       "      <th>16</th>\n",
       "      <td>thinness 5-9 years</td>\n",
       "      <td>3.300</td>\n",
       "    </tr>\n",
       "    <tr>\n",
       "      <th>17</th>\n",
       "      <td>income composition of resources</td>\n",
       "      <td>0.677</td>\n",
       "    </tr>\n",
       "    <tr>\n",
       "      <th>18</th>\n",
       "      <td>schooling</td>\n",
       "      <td>12.300</td>\n",
       "    </tr>\n",
       "  </tbody>\n",
       "</table>\n",
       "</div>"
      ],
      "text/plain": [
       "                             Column      Median\n",
       "0                   life expectancy      72.100\n",
       "1                   adult mortality     144.000\n",
       "2                     infant deaths       3.000\n",
       "3                           alcohol       3.760\n",
       "4            percentage expenditure      64.970\n",
       "5                       hepatitis b      92.000\n",
       "6                           measles      17.000\n",
       "7                               bmi      43.500\n",
       "8                 under-five deaths       4.000\n",
       "9                             polio      93.000\n",
       "10                total expenditure       5.760\n",
       "11                       diphtheria      93.000\n",
       "12                         hiv/aids       0.100\n",
       "13                              gdp    1768.921\n",
       "14                       population 1388115.000\n",
       "15             thinness  1-19 years       3.300\n",
       "16               thinness 5-9 years       3.300\n",
       "17  income composition of resources       0.677\n",
       "18                        schooling      12.300"
      ]
     },
     "execution_count": 19,
     "metadata": {},
     "output_type": "execute_result"
    }
   ],
   "source": [
    "median_results = []\n",
    "\n",
    "for column_name, column_values in life_expectancy_numeric.items():\n",
    "    median = calculate_median(column_values)\n",
    "    median_results.append({\"Column\": column_name, \"Median\": median})\n",
    "\n",
    "median_df = pd.DataFrame(median_results)\n",
    "\n",
    "median_df"
   ]
  },
  {
   "cell_type": "markdown",
   "id": "a46d3923",
   "metadata": {
    "papermill": {
     "duration": 0.007712,
     "end_time": "2024-12-10T07:40:25.578726",
     "exception": false,
     "start_time": "2024-12-10T07:40:25.571014",
     "status": "completed"
    },
    "tags": []
   },
   "source": [
    "## Mode"
   ]
  },
  {
   "cell_type": "code",
   "execution_count": 20,
   "id": "28e05949",
   "metadata": {
    "execution": {
     "iopub.execute_input": "2024-12-10T07:40:25.595691Z",
     "iopub.status.busy": "2024-12-10T07:40:25.595161Z",
     "iopub.status.idle": "2024-12-10T07:40:25.602728Z",
     "shell.execute_reply": "2024-12-10T07:40:25.601154Z"
    },
    "papermill": {
     "duration": 0.019391,
     "end_time": "2024-12-10T07:40:25.605662",
     "exception": false,
     "start_time": "2024-12-10T07:40:25.586271",
     "status": "completed"
    },
    "tags": []
   },
   "outputs": [],
   "source": [
    "def calculate_mode(column):\n",
    "    \n",
    "    values = column.dropna()  # Remove NaN values\n",
    "    \n",
    "    frequency = Counter(values)  # Counting frequencies of each value in a particular column\n",
    "    max_count = max(frequency.values())  # Finding the highest frequency\n",
    "    \n",
    "    # Finding all values with the highest frequency\n",
    "    modes = [str(key) for key, count in frequency.items() if count == max_count]\n",
    "    \n",
    "    return \", \".join(modes)  # Returning a comma-separated string"
   ]
  },
  {
   "cell_type": "code",
   "execution_count": 21,
   "id": "894a0fd1",
   "metadata": {
    "execution": {
     "iopub.execute_input": "2024-12-10T07:40:25.623583Z",
     "iopub.status.busy": "2024-12-10T07:40:25.623161Z",
     "iopub.status.idle": "2024-12-10T07:40:25.654804Z",
     "shell.execute_reply": "2024-12-10T07:40:25.653498Z"
    },
    "papermill": {
     "duration": 0.043845,
     "end_time": "2024-12-10T07:40:25.657325",
     "exception": false,
     "start_time": "2024-12-10T07:40:25.613480",
     "status": "completed"
    },
    "tags": []
   },
   "outputs": [
    {
     "data": {
      "text/html": [
       "<div>\n",
       "<style scoped>\n",
       "    .dataframe tbody tr th:only-of-type {\n",
       "        vertical-align: middle;\n",
       "    }\n",
       "\n",
       "    .dataframe tbody tr th {\n",
       "        vertical-align: top;\n",
       "    }\n",
       "\n",
       "    .dataframe thead th {\n",
       "        text-align: right;\n",
       "    }\n",
       "</style>\n",
       "<table border=\"1\" class=\"dataframe\">\n",
       "  <thead>\n",
       "    <tr style=\"text-align: right;\">\n",
       "      <th></th>\n",
       "      <th>Column</th>\n",
       "      <th>Mode</th>\n",
       "    </tr>\n",
       "  </thead>\n",
       "  <tbody>\n",
       "    <tr>\n",
       "      <th>0</th>\n",
       "      <td>life expectancy</td>\n",
       "      <td>73.0</td>\n",
       "    </tr>\n",
       "    <tr>\n",
       "      <th>1</th>\n",
       "      <td>adult mortality</td>\n",
       "      <td>12.0</td>\n",
       "    </tr>\n",
       "    <tr>\n",
       "      <th>2</th>\n",
       "      <td>infant deaths</td>\n",
       "      <td>0</td>\n",
       "    </tr>\n",
       "    <tr>\n",
       "      <th>3</th>\n",
       "      <td>alcohol</td>\n",
       "      <td>0.01</td>\n",
       "    </tr>\n",
       "    <tr>\n",
       "      <th>4</th>\n",
       "      <td>percentage expenditure</td>\n",
       "      <td>0.0</td>\n",
       "    </tr>\n",
       "    <tr>\n",
       "      <th>5</th>\n",
       "      <td>hepatitis b</td>\n",
       "      <td>99.0</td>\n",
       "    </tr>\n",
       "    <tr>\n",
       "      <th>6</th>\n",
       "      <td>measles</td>\n",
       "      <td>0</td>\n",
       "    </tr>\n",
       "    <tr>\n",
       "      <th>7</th>\n",
       "      <td>bmi</td>\n",
       "      <td>58.5</td>\n",
       "    </tr>\n",
       "    <tr>\n",
       "      <th>8</th>\n",
       "      <td>under-five deaths</td>\n",
       "      <td>0</td>\n",
       "    </tr>\n",
       "    <tr>\n",
       "      <th>9</th>\n",
       "      <td>polio</td>\n",
       "      <td>99.0</td>\n",
       "    </tr>\n",
       "    <tr>\n",
       "      <th>10</th>\n",
       "      <td>total expenditure</td>\n",
       "      <td>4.6</td>\n",
       "    </tr>\n",
       "    <tr>\n",
       "      <th>11</th>\n",
       "      <td>diphtheria</td>\n",
       "      <td>99.0</td>\n",
       "    </tr>\n",
       "    <tr>\n",
       "      <th>12</th>\n",
       "      <td>hiv/aids</td>\n",
       "      <td>0.1</td>\n",
       "    </tr>\n",
       "    <tr>\n",
       "      <th>13</th>\n",
       "      <td>gdp</td>\n",
       "      <td>584.25921, 612.696514, 631.744976, 669.959, 63...</td>\n",
       "    </tr>\n",
       "    <tr>\n",
       "      <th>14</th>\n",
       "      <td>population</td>\n",
       "      <td>444.0</td>\n",
       "    </tr>\n",
       "    <tr>\n",
       "      <th>15</th>\n",
       "      <td>thinness  1-19 years</td>\n",
       "      <td>1.0</td>\n",
       "    </tr>\n",
       "    <tr>\n",
       "      <th>16</th>\n",
       "      <td>thinness 5-9 years</td>\n",
       "      <td>0.9</td>\n",
       "    </tr>\n",
       "    <tr>\n",
       "      <th>17</th>\n",
       "      <td>income composition of resources</td>\n",
       "      <td>0.0</td>\n",
       "    </tr>\n",
       "    <tr>\n",
       "      <th>18</th>\n",
       "      <td>schooling</td>\n",
       "      <td>12.9</td>\n",
       "    </tr>\n",
       "  </tbody>\n",
       "</table>\n",
       "</div>"
      ],
      "text/plain": [
       "                             Column  \\\n",
       "0                   life expectancy   \n",
       "1                   adult mortality   \n",
       "2                     infant deaths   \n",
       "3                           alcohol   \n",
       "4            percentage expenditure   \n",
       "5                       hepatitis b   \n",
       "6                           measles   \n",
       "7                               bmi   \n",
       "8                 under-five deaths   \n",
       "9                             polio   \n",
       "10                total expenditure   \n",
       "11                       diphtheria   \n",
       "12                         hiv/aids   \n",
       "13                              gdp   \n",
       "14                       population   \n",
       "15             thinness  1-19 years   \n",
       "16               thinness 5-9 years   \n",
       "17  income composition of resources   \n",
       "18                        schooling   \n",
       "\n",
       "                                                 Mode  \n",
       "0                                                73.0  \n",
       "1                                                12.0  \n",
       "2                                                   0  \n",
       "3                                                0.01  \n",
       "4                                                 0.0  \n",
       "5                                                99.0  \n",
       "6                                                   0  \n",
       "7                                                58.5  \n",
       "8                                                   0  \n",
       "9                                                99.0  \n",
       "10                                                4.6  \n",
       "11                                               99.0  \n",
       "12                                                0.1  \n",
       "13  584.25921, 612.696514, 631.744976, 669.959, 63...  \n",
       "14                                              444.0  \n",
       "15                                                1.0  \n",
       "16                                                0.9  \n",
       "17                                                0.0  \n",
       "18                                               12.9  "
      ]
     },
     "execution_count": 21,
     "metadata": {},
     "output_type": "execute_result"
    }
   ],
   "source": [
    "mode_results = []\n",
    "\n",
    "for column_name, column_values in life_expectancy_numeric.items():\n",
    "    mode = calculate_mode(column_values)\n",
    "    mode_results.append({\"Column\": column_name, \"Mode\": mode})\n",
    "\n",
    "mode_df = pd.DataFrame(mode_results)\n",
    "mode_df"
   ]
  },
  {
   "cell_type": "markdown",
   "id": "612e5891",
   "metadata": {
    "papermill": {
     "duration": 0.008802,
     "end_time": "2024-12-10T07:40:25.673751",
     "exception": false,
     "start_time": "2024-12-10T07:40:25.664949",
     "status": "completed"
    },
    "tags": []
   },
   "source": [
    "## Combined View"
   ]
  },
  {
   "cell_type": "code",
   "execution_count": 22,
   "id": "321f814c",
   "metadata": {
    "execution": {
     "iopub.execute_input": "2024-12-10T07:40:25.691722Z",
     "iopub.status.busy": "2024-12-10T07:40:25.691180Z",
     "iopub.status.idle": "2024-12-10T07:40:25.726687Z",
     "shell.execute_reply": "2024-12-10T07:40:25.725130Z"
    },
    "papermill": {
     "duration": 0.047594,
     "end_time": "2024-12-10T07:40:25.729289",
     "exception": false,
     "start_time": "2024-12-10T07:40:25.681695",
     "status": "completed"
    },
    "tags": []
   },
   "outputs": [
    {
     "data": {
      "text/html": [
       "<div>\n",
       "<style scoped>\n",
       "    .dataframe tbody tr th:only-of-type {\n",
       "        vertical-align: middle;\n",
       "    }\n",
       "\n",
       "    .dataframe tbody tr th {\n",
       "        vertical-align: top;\n",
       "    }\n",
       "\n",
       "    .dataframe thead th {\n",
       "        text-align: right;\n",
       "    }\n",
       "</style>\n",
       "<table border=\"1\" class=\"dataframe\">\n",
       "  <thead>\n",
       "    <tr style=\"text-align: right;\">\n",
       "      <th></th>\n",
       "      <th>Column</th>\n",
       "      <th>Mean</th>\n",
       "      <th>Median</th>\n",
       "      <th>Mode</th>\n",
       "    </tr>\n",
       "  </thead>\n",
       "  <tbody>\n",
       "    <tr>\n",
       "      <th>0</th>\n",
       "      <td>adult mortality</td>\n",
       "      <td>164.796</td>\n",
       "      <td>144.000</td>\n",
       "      <td>12.0</td>\n",
       "    </tr>\n",
       "    <tr>\n",
       "      <th>1</th>\n",
       "      <td>alcohol</td>\n",
       "      <td>4.603</td>\n",
       "      <td>3.760</td>\n",
       "      <td>0.01</td>\n",
       "    </tr>\n",
       "    <tr>\n",
       "      <th>2</th>\n",
       "      <td>bmi</td>\n",
       "      <td>38.321</td>\n",
       "      <td>43.500</td>\n",
       "      <td>58.5</td>\n",
       "    </tr>\n",
       "    <tr>\n",
       "      <th>3</th>\n",
       "      <td>diphtheria</td>\n",
       "      <td>82.324</td>\n",
       "      <td>93.000</td>\n",
       "      <td>99.0</td>\n",
       "    </tr>\n",
       "    <tr>\n",
       "      <th>4</th>\n",
       "      <td>gdp</td>\n",
       "      <td>7483.158</td>\n",
       "      <td>1768.921</td>\n",
       "      <td>584.25921, 612.696514, 631.744976, 669.959, 63...</td>\n",
       "    </tr>\n",
       "    <tr>\n",
       "      <th>5</th>\n",
       "      <td>hepatitis b</td>\n",
       "      <td>80.940</td>\n",
       "      <td>92.000</td>\n",
       "      <td>99.0</td>\n",
       "    </tr>\n",
       "    <tr>\n",
       "      <th>6</th>\n",
       "      <td>hiv/aids</td>\n",
       "      <td>1.742</td>\n",
       "      <td>0.100</td>\n",
       "      <td>0.1</td>\n",
       "    </tr>\n",
       "    <tr>\n",
       "      <th>7</th>\n",
       "      <td>income composition of resources</td>\n",
       "      <td>0.628</td>\n",
       "      <td>0.677</td>\n",
       "      <td>0.0</td>\n",
       "    </tr>\n",
       "    <tr>\n",
       "      <th>8</th>\n",
       "      <td>infant deaths</td>\n",
       "      <td>30.304</td>\n",
       "      <td>3.000</td>\n",
       "      <td>0</td>\n",
       "    </tr>\n",
       "    <tr>\n",
       "      <th>9</th>\n",
       "      <td>life expectancy</td>\n",
       "      <td>69.225</td>\n",
       "      <td>72.100</td>\n",
       "      <td>73.0</td>\n",
       "    </tr>\n",
       "    <tr>\n",
       "      <th>10</th>\n",
       "      <td>measles</td>\n",
       "      <td>2419.592</td>\n",
       "      <td>17.000</td>\n",
       "      <td>0</td>\n",
       "    </tr>\n",
       "    <tr>\n",
       "      <th>11</th>\n",
       "      <td>percentage expenditure</td>\n",
       "      <td>738.251</td>\n",
       "      <td>64.970</td>\n",
       "      <td>0.0</td>\n",
       "    </tr>\n",
       "    <tr>\n",
       "      <th>12</th>\n",
       "      <td>polio</td>\n",
       "      <td>82.550</td>\n",
       "      <td>93.000</td>\n",
       "      <td>99.0</td>\n",
       "    </tr>\n",
       "    <tr>\n",
       "      <th>13</th>\n",
       "      <td>population</td>\n",
       "      <td>12753375.120</td>\n",
       "      <td>1388115.000</td>\n",
       "      <td>444.0</td>\n",
       "    </tr>\n",
       "    <tr>\n",
       "      <th>14</th>\n",
       "      <td>schooling</td>\n",
       "      <td>11.993</td>\n",
       "      <td>12.300</td>\n",
       "      <td>12.9</td>\n",
       "    </tr>\n",
       "    <tr>\n",
       "      <th>15</th>\n",
       "      <td>thinness  1-19 years</td>\n",
       "      <td>4.840</td>\n",
       "      <td>3.300</td>\n",
       "      <td>1.0</td>\n",
       "    </tr>\n",
       "    <tr>\n",
       "      <th>16</th>\n",
       "      <td>thinness 5-9 years</td>\n",
       "      <td>4.870</td>\n",
       "      <td>3.300</td>\n",
       "      <td>0.9</td>\n",
       "    </tr>\n",
       "    <tr>\n",
       "      <th>17</th>\n",
       "      <td>total expenditure</td>\n",
       "      <td>5.938</td>\n",
       "      <td>5.760</td>\n",
       "      <td>4.6</td>\n",
       "    </tr>\n",
       "    <tr>\n",
       "      <th>18</th>\n",
       "      <td>under-five deaths</td>\n",
       "      <td>42.036</td>\n",
       "      <td>4.000</td>\n",
       "      <td>0</td>\n",
       "    </tr>\n",
       "  </tbody>\n",
       "</table>\n",
       "</div>"
      ],
      "text/plain": [
       "                             Column         Mean      Median  \\\n",
       "0                   adult mortality      164.796     144.000   \n",
       "1                           alcohol        4.603       3.760   \n",
       "2                               bmi       38.321      43.500   \n",
       "3                        diphtheria       82.324      93.000   \n",
       "4                               gdp     7483.158    1768.921   \n",
       "5                       hepatitis b       80.940      92.000   \n",
       "6                          hiv/aids        1.742       0.100   \n",
       "7   income composition of resources        0.628       0.677   \n",
       "8                     infant deaths       30.304       3.000   \n",
       "9                   life expectancy       69.225      72.100   \n",
       "10                          measles     2419.592      17.000   \n",
       "11           percentage expenditure      738.251      64.970   \n",
       "12                            polio       82.550      93.000   \n",
       "13                       population 12753375.120 1388115.000   \n",
       "14                        schooling       11.993      12.300   \n",
       "15             thinness  1-19 years        4.840       3.300   \n",
       "16               thinness 5-9 years        4.870       3.300   \n",
       "17                total expenditure        5.938       5.760   \n",
       "18                under-five deaths       42.036       4.000   \n",
       "\n",
       "                                                 Mode  \n",
       "0                                                12.0  \n",
       "1                                                0.01  \n",
       "2                                                58.5  \n",
       "3                                                99.0  \n",
       "4   584.25921, 612.696514, 631.744976, 669.959, 63...  \n",
       "5                                                99.0  \n",
       "6                                                 0.1  \n",
       "7                                                 0.0  \n",
       "8                                                   0  \n",
       "9                                                73.0  \n",
       "10                                                  0  \n",
       "11                                                0.0  \n",
       "12                                               99.0  \n",
       "13                                              444.0  \n",
       "14                                               12.9  \n",
       "15                                                1.0  \n",
       "16                                                0.9  \n",
       "17                                                4.6  \n",
       "18                                                  0  "
      ]
     },
     "execution_count": 22,
     "metadata": {},
     "output_type": "execute_result"
    }
   ],
   "source": [
    "combined_df = pd.merge(mean_df, median_df, on=\"Column\", how=\"outer\")\n",
    "combined_df = pd.merge(combined_df, mode_df, on=\"Column\", how=\"outer\")\n",
    "\n",
    "combined_df"
   ]
  }
 ],
 "metadata": {
  "kaggle": {
   "accelerator": "none",
   "dataSources": [
    {
     "datasetId": 12603,
     "sourceId": 17232,
     "sourceType": "datasetVersion"
    }
   ],
   "dockerImageVersionId": 30804,
   "isGpuEnabled": false,
   "isInternetEnabled": true,
   "language": "python",
   "sourceType": "notebook"
  },
  "kernelspec": {
   "display_name": "Python 3",
   "language": "python",
   "name": "python3"
  },
  "language_info": {
   "codemirror_mode": {
    "name": "ipython",
    "version": 3
   },
   "file_extension": ".py",
   "mimetype": "text/x-python",
   "name": "python",
   "nbconvert_exporter": "python",
   "pygments_lexer": "ipython3",
   "version": "3.10.14"
  },
  "papermill": {
   "default_parameters": {},
   "duration": 7.820964,
   "end_time": "2024-12-10T07:40:26.461202",
   "environment_variables": {},
   "exception": null,
   "input_path": "__notebook__.ipynb",
   "output_path": "__notebook__.ipynb",
   "parameters": {},
   "start_time": "2024-12-10T07:40:18.640238",
   "version": "2.6.0"
  }
 },
 "nbformat": 4,
 "nbformat_minor": 5
}
